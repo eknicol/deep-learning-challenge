{
 "cells": [
  {
   "cell_type": "markdown",
   "metadata": {},
   "source": [
    "## Preprocessing"
   ]
  },
  {
   "cell_type": "code",
   "execution_count": 1,
   "metadata": {},
   "outputs": [
    {
     "data": {
      "text/html": [
       "<div>\n",
       "<style scoped>\n",
       "    .dataframe tbody tr th:only-of-type {\n",
       "        vertical-align: middle;\n",
       "    }\n",
       "\n",
       "    .dataframe tbody tr th {\n",
       "        vertical-align: top;\n",
       "    }\n",
       "\n",
       "    .dataframe thead th {\n",
       "        text-align: right;\n",
       "    }\n",
       "</style>\n",
       "<table border=\"1\" class=\"dataframe\">\n",
       "  <thead>\n",
       "    <tr style=\"text-align: right;\">\n",
       "      <th></th>\n",
       "      <th>EIN</th>\n",
       "      <th>NAME</th>\n",
       "      <th>APPLICATION_TYPE</th>\n",
       "      <th>AFFILIATION</th>\n",
       "      <th>CLASSIFICATION</th>\n",
       "      <th>USE_CASE</th>\n",
       "      <th>ORGANIZATION</th>\n",
       "      <th>STATUS</th>\n",
       "      <th>INCOME_AMT</th>\n",
       "      <th>SPECIAL_CONSIDERATIONS</th>\n",
       "      <th>ASK_AMT</th>\n",
       "      <th>IS_SUCCESSFUL</th>\n",
       "    </tr>\n",
       "  </thead>\n",
       "  <tbody>\n",
       "    <tr>\n",
       "      <th>0</th>\n",
       "      <td>10520599</td>\n",
       "      <td>BLUE KNIGHTS MOTORCYCLE CLUB</td>\n",
       "      <td>T10</td>\n",
       "      <td>Independent</td>\n",
       "      <td>C1000</td>\n",
       "      <td>ProductDev</td>\n",
       "      <td>Association</td>\n",
       "      <td>1</td>\n",
       "      <td>0</td>\n",
       "      <td>N</td>\n",
       "      <td>5000</td>\n",
       "      <td>1</td>\n",
       "    </tr>\n",
       "    <tr>\n",
       "      <th>1</th>\n",
       "      <td>10531628</td>\n",
       "      <td>AMERICAN CHESAPEAKE CLUB CHARITABLE TR</td>\n",
       "      <td>T3</td>\n",
       "      <td>Independent</td>\n",
       "      <td>C2000</td>\n",
       "      <td>Preservation</td>\n",
       "      <td>Co-operative</td>\n",
       "      <td>1</td>\n",
       "      <td>1-9999</td>\n",
       "      <td>N</td>\n",
       "      <td>108590</td>\n",
       "      <td>1</td>\n",
       "    </tr>\n",
       "    <tr>\n",
       "      <th>2</th>\n",
       "      <td>10547893</td>\n",
       "      <td>ST CLOUD PROFESSIONAL FIREFIGHTERS</td>\n",
       "      <td>T5</td>\n",
       "      <td>CompanySponsored</td>\n",
       "      <td>C3000</td>\n",
       "      <td>ProductDev</td>\n",
       "      <td>Association</td>\n",
       "      <td>1</td>\n",
       "      <td>0</td>\n",
       "      <td>N</td>\n",
       "      <td>5000</td>\n",
       "      <td>0</td>\n",
       "    </tr>\n",
       "    <tr>\n",
       "      <th>3</th>\n",
       "      <td>10553066</td>\n",
       "      <td>SOUTHSIDE ATHLETIC ASSOCIATION</td>\n",
       "      <td>T3</td>\n",
       "      <td>CompanySponsored</td>\n",
       "      <td>C2000</td>\n",
       "      <td>Preservation</td>\n",
       "      <td>Trust</td>\n",
       "      <td>1</td>\n",
       "      <td>10000-24999</td>\n",
       "      <td>N</td>\n",
       "      <td>6692</td>\n",
       "      <td>1</td>\n",
       "    </tr>\n",
       "    <tr>\n",
       "      <th>4</th>\n",
       "      <td>10556103</td>\n",
       "      <td>GENETIC RESEARCH INSTITUTE OF THE DESERT</td>\n",
       "      <td>T3</td>\n",
       "      <td>Independent</td>\n",
       "      <td>C1000</td>\n",
       "      <td>Heathcare</td>\n",
       "      <td>Trust</td>\n",
       "      <td>1</td>\n",
       "      <td>100000-499999</td>\n",
       "      <td>N</td>\n",
       "      <td>142590</td>\n",
       "      <td>1</td>\n",
       "    </tr>\n",
       "  </tbody>\n",
       "</table>\n",
       "</div>"
      ],
      "text/plain": [
       "        EIN                                      NAME APPLICATION_TYPE  \\\n",
       "0  10520599              BLUE KNIGHTS MOTORCYCLE CLUB              T10   \n",
       "1  10531628    AMERICAN CHESAPEAKE CLUB CHARITABLE TR               T3   \n",
       "2  10547893        ST CLOUD PROFESSIONAL FIREFIGHTERS               T5   \n",
       "3  10553066            SOUTHSIDE ATHLETIC ASSOCIATION               T3   \n",
       "4  10556103  GENETIC RESEARCH INSTITUTE OF THE DESERT               T3   \n",
       "\n",
       "        AFFILIATION CLASSIFICATION      USE_CASE  ORGANIZATION  STATUS  \\\n",
       "0       Independent          C1000    ProductDev   Association       1   \n",
       "1       Independent          C2000  Preservation  Co-operative       1   \n",
       "2  CompanySponsored          C3000    ProductDev   Association       1   \n",
       "3  CompanySponsored          C2000  Preservation         Trust       1   \n",
       "4       Independent          C1000     Heathcare         Trust       1   \n",
       "\n",
       "      INCOME_AMT SPECIAL_CONSIDERATIONS  ASK_AMT  IS_SUCCESSFUL  \n",
       "0              0                      N     5000              1  \n",
       "1         1-9999                      N   108590              1  \n",
       "2              0                      N     5000              0  \n",
       "3    10000-24999                      N     6692              1  \n",
       "4  100000-499999                      N   142590              1  "
      ]
     },
     "execution_count": 1,
     "metadata": {},
     "output_type": "execute_result"
    }
   ],
   "source": [
    "# Import our dependencies\n",
    "from sklearn.model_selection import train_test_split\n",
    "from sklearn.preprocessing import StandardScaler\n",
    "import pandas as pd\n",
    "import tensorflow as tf\n",
    "\n",
    "#  Import and read the charity_data.csv.\n",
    "import pandas as pd\n",
    "application_df = pd.read_csv(\"https://static.bc-edx.com/data/dla-1-2/m21/lms/starter/charity_data.csv\")\n",
    "application_df.head()"
   ]
  },
  {
   "cell_type": "code",
   "execution_count": 2,
   "metadata": {},
   "outputs": [],
   "source": [
    "# Drop the non-beneficial ID columns, 'EIN' and 'NAME'.\n",
    "application_df.drop(['EIN', 'NAME'], inplace=True, axis=1)"
   ]
  },
  {
   "cell_type": "code",
   "execution_count": 3,
   "metadata": {},
   "outputs": [
    {
     "data": {
      "text/plain": [
       "APPLICATION_TYPE            17\n",
       "AFFILIATION                  6\n",
       "CLASSIFICATION              71\n",
       "USE_CASE                     5\n",
       "ORGANIZATION                 4\n",
       "STATUS                       2\n",
       "INCOME_AMT                   9\n",
       "SPECIAL_CONSIDERATIONS       2\n",
       "ASK_AMT                   8747\n",
       "IS_SUCCESSFUL                2\n",
       "dtype: int64"
      ]
     },
     "execution_count": 3,
     "metadata": {},
     "output_type": "execute_result"
    }
   ],
   "source": [
    "# Determine the number of unique values in each column.\n",
    "application_df.nunique(dropna=True)"
   ]
  },
  {
   "cell_type": "code",
   "execution_count": 4,
   "metadata": {},
   "outputs": [
    {
     "data": {
      "text/plain": [
       "APPLICATION_TYPE\n",
       "T3     27037\n",
       "T4      1542\n",
       "T6      1216\n",
       "T5      1173\n",
       "T19     1065\n",
       "T8       737\n",
       "T7       725\n",
       "T10      528\n",
       "T9       156\n",
       "T13       66\n",
       "T12       27\n",
       "T2        16\n",
       "T25        3\n",
       "T14        3\n",
       "T29        2\n",
       "T15        2\n",
       "T17        1\n",
       "Name: count, dtype: int64"
      ]
     },
     "execution_count": 4,
     "metadata": {},
     "output_type": "execute_result"
    }
   ],
   "source": [
    "# Look at APPLICATION_TYPE value counts to identify and replace with \"Other\"\n",
    "application_df['APPLICATION_TYPE'].value_counts()\n"
   ]
  },
  {
   "cell_type": "code",
   "execution_count": 5,
   "metadata": {},
   "outputs": [
    {
     "data": {
      "text/plain": [
       "APPLICATION_TYPE\n",
       "T3       27037\n",
       "T4        1542\n",
       "T6        1216\n",
       "T5        1173\n",
       "T19       1065\n",
       "T8         737\n",
       "T7         725\n",
       "T10        528\n",
       "Other      276\n",
       "Name: count, dtype: int64"
      ]
     },
     "execution_count": 5,
     "metadata": {},
     "output_type": "execute_result"
    }
   ],
   "source": [
    "# Choose a cutoff value and create a list of application types to be replaced\n",
    "# use the variable name `application_types_to_replace`\n",
    "application_types_to_replace = ['T17', 'T15', 'T29', 'T14', 'T25', 'T2', 'T12', 'T13', 'T9'] \n",
    "application_df['APPLICATION_TYPE'].replace(application_types_to_replace, 'Other', inplace=True)\n",
    "# Replace in dataframe\n",
    "for app in application_types_to_replace:\n",
    "    application_df['APPLICATION_TYPE'] = application_df['APPLICATION_TYPE'].replace(app,\"Other\")\n",
    "\n",
    "# Check to make sure replacement was successful\n",
    "application_df['APPLICATION_TYPE'].value_counts()"
   ]
  },
  {
   "cell_type": "code",
   "execution_count": 6,
   "metadata": {},
   "outputs": [
    {
     "data": {
      "text/plain": [
       "CLASSIFICATION\n",
       "C1000    17326\n",
       "C2000     6074\n",
       "C1200     4837\n",
       "C3000     1918\n",
       "C2100     1883\n",
       "         ...  \n",
       "C4120        1\n",
       "C8210        1\n",
       "C2561        1\n",
       "C4500        1\n",
       "C2150        1\n",
       "Name: count, Length: 71, dtype: int64"
      ]
     },
     "execution_count": 6,
     "metadata": {},
     "output_type": "execute_result"
    }
   ],
   "source": [
    "# Look at CLASSIFICATION value counts to identify and replace with \"Other\"\n",
    "application_df['CLASSIFICATION'].value_counts()\n"
   ]
  },
  {
   "cell_type": "code",
   "execution_count": 7,
   "metadata": {},
   "outputs": [
    {
     "data": {
      "text/plain": [
       "CLASSIFICATION\n",
       "C1000    17326\n",
       "C2000     6074\n",
       "C1200     4837\n",
       "C3000     1918\n",
       "C2100     1883\n",
       "C7000      777\n",
       "C1700      287\n",
       "C4000      194\n",
       "C5000      116\n",
       "C1270      114\n",
       "C2700      104\n",
       "C2800       95\n",
       "C7100       75\n",
       "C1300       58\n",
       "C1280       50\n",
       "C1230       36\n",
       "C1400       34\n",
       "C7200       32\n",
       "C2300       32\n",
       "C1240       30\n",
       "C8000       20\n",
       "C7120       18\n",
       "C1500       16\n",
       "C1800       15\n",
       "C6000       15\n",
       "C1250       14\n",
       "C8200       11\n",
       "C1238       10\n",
       "C1278       10\n",
       "C1235        9\n",
       "C1237        9\n",
       "C7210        7\n",
       "C2400        6\n",
       "C1720        6\n",
       "C4100        6\n",
       "C1257        5\n",
       "C1600        5\n",
       "C1260        3\n",
       "C2710        3\n",
       "C0           3\n",
       "C3200        2\n",
       "C1234        2\n",
       "C1246        2\n",
       "C1267        2\n",
       "C1256        2\n",
       "Name: count, dtype: int64"
      ]
     },
     "execution_count": 7,
     "metadata": {},
     "output_type": "execute_result"
    }
   ],
   "source": [
    "# You may find it helpful to look at CLASSIFICATION value counts >1\n",
    "application_df['CLASSIFICATION'].value_counts()[application_df['CLASSIFICATION'].value_counts() > 1]\n"
   ]
  },
  {
   "cell_type": "code",
   "execution_count": 9,
   "metadata": {},
   "outputs": [
    {
     "data": {
      "text/plain": [
       "CLASSIFICATION\n",
       "C1000    17326\n",
       "C2000     6074\n",
       "C1200     4837\n",
       "Other     2261\n",
       "C3000     1918\n",
       "C2100     1883\n",
       "Name: count, dtype: int64"
      ]
     },
     "execution_count": 9,
     "metadata": {},
     "output_type": "execute_result"
    }
   ],
   "source": [
    "# Choose a cutoff value and create a list of classifications to be replaced\n",
    "# use the variable name `classifications_to_replace`\n",
    "classifications_to_replace = ['C1256', 'C1267', 'C1246', 'C1234', 'C3200', 'C0', 'C2710', 'C1260', 'C1600', 'C1257', 'C4100', 'C1720', 'C2400', 'C7210', 'C1237', 'C1235', 'C1278', 'C1238', 'C8200', 'C1250', 'C6000', 'C1800', 'C1500', 'C7120', 'C8000', 'C1240', 'C2300', 'C7200', 'C1400', 'C1230', 'C1280', 'C1300', 'C7100', 'C2800', 'C2700', 'C1270', 'C5000', 'C4000', 'C1700', 'C7000', 'C777', 'C1370', 'C1236', 'C2190', 'C4200', 'C5200', 'C6100', 'C2600', 'C1248', 'C1580', 'C1820', 'C1900', 'C2570', 'C1283', 'C3700', 'C2500', 'C1570', 'C2380', 'C1732', 'C1728', 'C2170', 'C4120', 'C8210', 'C4500', 'C1245', 'C2561', 'C2150'] \n",
    "application_df['CLASSIFICATION'].replace(classifications_to_replace, 'Other', inplace=True)\n",
    "\n",
    "# Replace in dataframe\n",
    "for cls in classifications_to_replace:\n",
    "    application_df['CLASSIFICATION'] = application_df['CLASSIFICATION'].replace(cls,\"Other\")\n",
    "\n",
    "# Check to make sure replacement was successful\n",
    "application_df['CLASSIFICATION'].value_counts()"
   ]
  },
  {
   "cell_type": "code",
   "execution_count": 19,
   "metadata": {},
   "outputs": [],
   "source": [
    "# Convert categorical data to numeric with `pd.get_dummies`\n",
    "df_encoded = pd.get_dummies(application_df)\n",
    "# Concatenate the encoded DataFrame with the original DataFrame\n",
    "df_final = pd.concat([application_df, df_encoded], axis=1)"
   ]
  },
  {
   "cell_type": "code",
   "execution_count": 20,
   "metadata": {},
   "outputs": [
    {
     "name": "stdout",
     "output_type": "stream",
     "text": [
      "X_train shape: (27439, 52)\n",
      "X_test shape: (6860, 52)\n",
      "y_train shape: (27439, 2)\n",
      "y_test shape: (6860, 2)\n"
     ]
    }
   ],
   "source": [
    "# Split our preprocessed data into our features and target arrays\n",
    "\n",
    "# Assume df_final is your preprocessed DataFrame with features and target variable\n",
    "X = df_final.drop(\"IS_SUCCESSFUL\", axis=1)\n",
    "y = df_final[\"IS_SUCCESSFUL\"]\n",
    "\n",
    "# Split the preprocessed data into a training and testing dataset\n",
    "X_train, X_test, y_train, y_test = train_test_split(X, y, test_size=0.2, random_state=1, stratify=y)\n",
    "\n",
    "# Check the shapes of the arrays\n",
    "print(\"X_train shape:\", X_train.shape)\n",
    "print(\"X_test shape:\", X_test.shape)\n",
    "print(\"y_train shape:\", y_train.shape)\n",
    "print(\"y_test shape:\", y_test.shape)"
   ]
  },
  {
   "cell_type": "code",
   "execution_count": 21,
   "metadata": {},
   "outputs": [
    {
     "ename": "ValueError",
     "evalue": "could not convert string to float: 'T3'",
     "output_type": "error",
     "traceback": [
      "\u001b[1;31m---------------------------------------------------------------------------\u001b[0m",
      "\u001b[1;31mValueError\u001b[0m                                Traceback (most recent call last)",
      "Cell \u001b[1;32mIn[21], line 5\u001b[0m\n\u001b[0;32m      2\u001b[0m scaler \u001b[38;5;241m=\u001b[39m StandardScaler()\n\u001b[0;32m      4\u001b[0m \u001b[38;5;66;03m# Fit the StandardScaler\u001b[39;00m\n\u001b[1;32m----> 5\u001b[0m X_scaler \u001b[38;5;241m=\u001b[39m scaler\u001b[38;5;241m.\u001b[39mfit(X_train)\n\u001b[0;32m      7\u001b[0m \u001b[38;5;66;03m# Scale the data\u001b[39;00m\n\u001b[0;32m      8\u001b[0m X_train_scaled \u001b[38;5;241m=\u001b[39m X_scaler\u001b[38;5;241m.\u001b[39mtransform(X_train)\n",
      "File \u001b[1;32m~\\anaconda3\\Lib\\site-packages\\sklearn\\preprocessing\\_data.py:824\u001b[0m, in \u001b[0;36mStandardScaler.fit\u001b[1;34m(self, X, y, sample_weight)\u001b[0m\n\u001b[0;32m    822\u001b[0m \u001b[38;5;66;03m# Reset internal state before fitting\u001b[39;00m\n\u001b[0;32m    823\u001b[0m \u001b[38;5;28mself\u001b[39m\u001b[38;5;241m.\u001b[39m_reset()\n\u001b[1;32m--> 824\u001b[0m \u001b[38;5;28;01mreturn\u001b[39;00m \u001b[38;5;28mself\u001b[39m\u001b[38;5;241m.\u001b[39mpartial_fit(X, y, sample_weight)\n",
      "File \u001b[1;32m~\\anaconda3\\Lib\\site-packages\\sklearn\\preprocessing\\_data.py:861\u001b[0m, in \u001b[0;36mStandardScaler.partial_fit\u001b[1;34m(self, X, y, sample_weight)\u001b[0m\n\u001b[0;32m    858\u001b[0m \u001b[38;5;28mself\u001b[39m\u001b[38;5;241m.\u001b[39m_validate_params()\n\u001b[0;32m    860\u001b[0m first_call \u001b[38;5;241m=\u001b[39m \u001b[38;5;129;01mnot\u001b[39;00m \u001b[38;5;28mhasattr\u001b[39m(\u001b[38;5;28mself\u001b[39m, \u001b[38;5;124m\"\u001b[39m\u001b[38;5;124mn_samples_seen_\u001b[39m\u001b[38;5;124m\"\u001b[39m)\n\u001b[1;32m--> 861\u001b[0m X \u001b[38;5;241m=\u001b[39m \u001b[38;5;28mself\u001b[39m\u001b[38;5;241m.\u001b[39m_validate_data(\n\u001b[0;32m    862\u001b[0m     X,\n\u001b[0;32m    863\u001b[0m     accept_sparse\u001b[38;5;241m=\u001b[39m(\u001b[38;5;124m\"\u001b[39m\u001b[38;5;124mcsr\u001b[39m\u001b[38;5;124m\"\u001b[39m, \u001b[38;5;124m\"\u001b[39m\u001b[38;5;124mcsc\u001b[39m\u001b[38;5;124m\"\u001b[39m),\n\u001b[0;32m    864\u001b[0m     dtype\u001b[38;5;241m=\u001b[39mFLOAT_DTYPES,\n\u001b[0;32m    865\u001b[0m     force_all_finite\u001b[38;5;241m=\u001b[39m\u001b[38;5;124m\"\u001b[39m\u001b[38;5;124mallow-nan\u001b[39m\u001b[38;5;124m\"\u001b[39m,\n\u001b[0;32m    866\u001b[0m     reset\u001b[38;5;241m=\u001b[39mfirst_call,\n\u001b[0;32m    867\u001b[0m )\n\u001b[0;32m    868\u001b[0m n_features \u001b[38;5;241m=\u001b[39m X\u001b[38;5;241m.\u001b[39mshape[\u001b[38;5;241m1\u001b[39m]\n\u001b[0;32m    870\u001b[0m \u001b[38;5;28;01mif\u001b[39;00m sample_weight \u001b[38;5;129;01mis\u001b[39;00m \u001b[38;5;129;01mnot\u001b[39;00m \u001b[38;5;28;01mNone\u001b[39;00m:\n",
      "File \u001b[1;32m~\\anaconda3\\Lib\\site-packages\\sklearn\\base.py:565\u001b[0m, in \u001b[0;36mBaseEstimator._validate_data\u001b[1;34m(self, X, y, reset, validate_separately, **check_params)\u001b[0m\n\u001b[0;32m    563\u001b[0m     \u001b[38;5;28;01mraise\u001b[39;00m \u001b[38;5;167;01mValueError\u001b[39;00m(\u001b[38;5;124m\"\u001b[39m\u001b[38;5;124mValidation should be done on X, y or both.\u001b[39m\u001b[38;5;124m\"\u001b[39m)\n\u001b[0;32m    564\u001b[0m \u001b[38;5;28;01melif\u001b[39;00m \u001b[38;5;129;01mnot\u001b[39;00m no_val_X \u001b[38;5;129;01mand\u001b[39;00m no_val_y:\n\u001b[1;32m--> 565\u001b[0m     X \u001b[38;5;241m=\u001b[39m check_array(X, input_name\u001b[38;5;241m=\u001b[39m\u001b[38;5;124m\"\u001b[39m\u001b[38;5;124mX\u001b[39m\u001b[38;5;124m\"\u001b[39m, \u001b[38;5;241m*\u001b[39m\u001b[38;5;241m*\u001b[39mcheck_params)\n\u001b[0;32m    566\u001b[0m     out \u001b[38;5;241m=\u001b[39m X\n\u001b[0;32m    567\u001b[0m \u001b[38;5;28;01melif\u001b[39;00m no_val_X \u001b[38;5;129;01mand\u001b[39;00m \u001b[38;5;129;01mnot\u001b[39;00m no_val_y:\n",
      "File \u001b[1;32m~\\anaconda3\\Lib\\site-packages\\sklearn\\utils\\validation.py:810\u001b[0m, in \u001b[0;36mcheck_array\u001b[1;34m(array, accept_sparse, accept_large_sparse, dtype, order, copy, force_all_finite, ensure_2d, allow_nd, ensure_min_samples, ensure_min_features, estimator, input_name)\u001b[0m\n\u001b[0;32m    805\u001b[0m \u001b[38;5;28;01mif\u001b[39;00m pandas_requires_conversion:\n\u001b[0;32m    806\u001b[0m     \u001b[38;5;66;03m# pandas dataframe requires conversion earlier to handle extension dtypes with\u001b[39;00m\n\u001b[0;32m    807\u001b[0m     \u001b[38;5;66;03m# nans\u001b[39;00m\n\u001b[0;32m    808\u001b[0m     \u001b[38;5;66;03m# Use the original dtype for conversion if dtype is None\u001b[39;00m\n\u001b[0;32m    809\u001b[0m     new_dtype \u001b[38;5;241m=\u001b[39m dtype_orig \u001b[38;5;28;01mif\u001b[39;00m dtype \u001b[38;5;129;01mis\u001b[39;00m \u001b[38;5;28;01mNone\u001b[39;00m \u001b[38;5;28;01melse\u001b[39;00m dtype\n\u001b[1;32m--> 810\u001b[0m     array \u001b[38;5;241m=\u001b[39m array\u001b[38;5;241m.\u001b[39mastype(new_dtype)\n\u001b[0;32m    811\u001b[0m     \u001b[38;5;66;03m# Since we converted here, we do not need to convert again later\u001b[39;00m\n\u001b[0;32m    812\u001b[0m     dtype \u001b[38;5;241m=\u001b[39m \u001b[38;5;28;01mNone\u001b[39;00m\n",
      "File \u001b[1;32m~\\anaconda3\\Lib\\site-packages\\pandas\\core\\generic.py:6534\u001b[0m, in \u001b[0;36mNDFrame.astype\u001b[1;34m(self, dtype, copy, errors)\u001b[0m\n\u001b[0;32m   6530\u001b[0m     results \u001b[38;5;241m=\u001b[39m [ser\u001b[38;5;241m.\u001b[39mastype(dtype, copy\u001b[38;5;241m=\u001b[39mcopy) \u001b[38;5;28;01mfor\u001b[39;00m _, ser \u001b[38;5;129;01min\u001b[39;00m \u001b[38;5;28mself\u001b[39m\u001b[38;5;241m.\u001b[39mitems()]\n\u001b[0;32m   6532\u001b[0m \u001b[38;5;28;01melse\u001b[39;00m:\n\u001b[0;32m   6533\u001b[0m     \u001b[38;5;66;03m# else, only a single dtype is given\u001b[39;00m\n\u001b[1;32m-> 6534\u001b[0m     new_data \u001b[38;5;241m=\u001b[39m \u001b[38;5;28mself\u001b[39m\u001b[38;5;241m.\u001b[39m_mgr\u001b[38;5;241m.\u001b[39mastype(dtype\u001b[38;5;241m=\u001b[39mdtype, copy\u001b[38;5;241m=\u001b[39mcopy, errors\u001b[38;5;241m=\u001b[39merrors)\n\u001b[0;32m   6535\u001b[0m     res \u001b[38;5;241m=\u001b[39m \u001b[38;5;28mself\u001b[39m\u001b[38;5;241m.\u001b[39m_constructor_from_mgr(new_data, axes\u001b[38;5;241m=\u001b[39mnew_data\u001b[38;5;241m.\u001b[39maxes)\n\u001b[0;32m   6536\u001b[0m     \u001b[38;5;28;01mreturn\u001b[39;00m res\u001b[38;5;241m.\u001b[39m__finalize__(\u001b[38;5;28mself\u001b[39m, method\u001b[38;5;241m=\u001b[39m\u001b[38;5;124m\"\u001b[39m\u001b[38;5;124mastype\u001b[39m\u001b[38;5;124m\"\u001b[39m)\n",
      "File \u001b[1;32m~\\anaconda3\\Lib\\site-packages\\pandas\\core\\internals\\managers.py:414\u001b[0m, in \u001b[0;36mBaseBlockManager.astype\u001b[1;34m(self, dtype, copy, errors)\u001b[0m\n\u001b[0;32m    411\u001b[0m \u001b[38;5;28;01melif\u001b[39;00m using_copy_on_write():\n\u001b[0;32m    412\u001b[0m     copy \u001b[38;5;241m=\u001b[39m \u001b[38;5;28;01mFalse\u001b[39;00m\n\u001b[1;32m--> 414\u001b[0m \u001b[38;5;28;01mreturn\u001b[39;00m \u001b[38;5;28mself\u001b[39m\u001b[38;5;241m.\u001b[39mapply(\n\u001b[0;32m    415\u001b[0m     \u001b[38;5;124m\"\u001b[39m\u001b[38;5;124mastype\u001b[39m\u001b[38;5;124m\"\u001b[39m,\n\u001b[0;32m    416\u001b[0m     dtype\u001b[38;5;241m=\u001b[39mdtype,\n\u001b[0;32m    417\u001b[0m     copy\u001b[38;5;241m=\u001b[39mcopy,\n\u001b[0;32m    418\u001b[0m     errors\u001b[38;5;241m=\u001b[39merrors,\n\u001b[0;32m    419\u001b[0m     using_cow\u001b[38;5;241m=\u001b[39musing_copy_on_write(),\n\u001b[0;32m    420\u001b[0m )\n",
      "File \u001b[1;32m~\\anaconda3\\Lib\\site-packages\\pandas\\core\\internals\\managers.py:354\u001b[0m, in \u001b[0;36mBaseBlockManager.apply\u001b[1;34m(self, f, align_keys, **kwargs)\u001b[0m\n\u001b[0;32m    352\u001b[0m         applied \u001b[38;5;241m=\u001b[39m b\u001b[38;5;241m.\u001b[39mapply(f, \u001b[38;5;241m*\u001b[39m\u001b[38;5;241m*\u001b[39mkwargs)\n\u001b[0;32m    353\u001b[0m     \u001b[38;5;28;01melse\u001b[39;00m:\n\u001b[1;32m--> 354\u001b[0m         applied \u001b[38;5;241m=\u001b[39m \u001b[38;5;28mgetattr\u001b[39m(b, f)(\u001b[38;5;241m*\u001b[39m\u001b[38;5;241m*\u001b[39mkwargs)\n\u001b[0;32m    355\u001b[0m     result_blocks \u001b[38;5;241m=\u001b[39m extend_blocks(applied, result_blocks)\n\u001b[0;32m    357\u001b[0m out \u001b[38;5;241m=\u001b[39m \u001b[38;5;28mtype\u001b[39m(\u001b[38;5;28mself\u001b[39m)\u001b[38;5;241m.\u001b[39mfrom_blocks(result_blocks, \u001b[38;5;28mself\u001b[39m\u001b[38;5;241m.\u001b[39maxes)\n",
      "File \u001b[1;32m~\\anaconda3\\Lib\\site-packages\\pandas\\core\\internals\\blocks.py:616\u001b[0m, in \u001b[0;36mBlock.astype\u001b[1;34m(self, dtype, copy, errors, using_cow)\u001b[0m\n\u001b[0;32m    596\u001b[0m \u001b[38;5;250m\u001b[39m\u001b[38;5;124;03m\"\"\"\u001b[39;00m\n\u001b[0;32m    597\u001b[0m \u001b[38;5;124;03mCoerce to the new dtype.\u001b[39;00m\n\u001b[0;32m    598\u001b[0m \n\u001b[1;32m   (...)\u001b[0m\n\u001b[0;32m    612\u001b[0m \u001b[38;5;124;03mBlock\u001b[39;00m\n\u001b[0;32m    613\u001b[0m \u001b[38;5;124;03m\"\"\"\u001b[39;00m\n\u001b[0;32m    614\u001b[0m values \u001b[38;5;241m=\u001b[39m \u001b[38;5;28mself\u001b[39m\u001b[38;5;241m.\u001b[39mvalues\n\u001b[1;32m--> 616\u001b[0m new_values \u001b[38;5;241m=\u001b[39m astype_array_safe(values, dtype, copy\u001b[38;5;241m=\u001b[39mcopy, errors\u001b[38;5;241m=\u001b[39merrors)\n\u001b[0;32m    618\u001b[0m new_values \u001b[38;5;241m=\u001b[39m maybe_coerce_values(new_values)\n\u001b[0;32m    620\u001b[0m refs \u001b[38;5;241m=\u001b[39m \u001b[38;5;28;01mNone\u001b[39;00m\n",
      "File \u001b[1;32m~\\anaconda3\\Lib\\site-packages\\pandas\\core\\dtypes\\astype.py:238\u001b[0m, in \u001b[0;36mastype_array_safe\u001b[1;34m(values, dtype, copy, errors)\u001b[0m\n\u001b[0;32m    235\u001b[0m     dtype \u001b[38;5;241m=\u001b[39m dtype\u001b[38;5;241m.\u001b[39mnumpy_dtype\n\u001b[0;32m    237\u001b[0m \u001b[38;5;28;01mtry\u001b[39;00m:\n\u001b[1;32m--> 238\u001b[0m     new_values \u001b[38;5;241m=\u001b[39m astype_array(values, dtype, copy\u001b[38;5;241m=\u001b[39mcopy)\n\u001b[0;32m    239\u001b[0m \u001b[38;5;28;01mexcept\u001b[39;00m (\u001b[38;5;167;01mValueError\u001b[39;00m, \u001b[38;5;167;01mTypeError\u001b[39;00m):\n\u001b[0;32m    240\u001b[0m     \u001b[38;5;66;03m# e.g. _astype_nansafe can fail on object-dtype of strings\u001b[39;00m\n\u001b[0;32m    241\u001b[0m     \u001b[38;5;66;03m#  trying to convert to float\u001b[39;00m\n\u001b[0;32m    242\u001b[0m     \u001b[38;5;28;01mif\u001b[39;00m errors \u001b[38;5;241m==\u001b[39m \u001b[38;5;124m\"\u001b[39m\u001b[38;5;124mignore\u001b[39m\u001b[38;5;124m\"\u001b[39m:\n",
      "File \u001b[1;32m~\\anaconda3\\Lib\\site-packages\\pandas\\core\\dtypes\\astype.py:183\u001b[0m, in \u001b[0;36mastype_array\u001b[1;34m(values, dtype, copy)\u001b[0m\n\u001b[0;32m    180\u001b[0m     values \u001b[38;5;241m=\u001b[39m values\u001b[38;5;241m.\u001b[39mastype(dtype, copy\u001b[38;5;241m=\u001b[39mcopy)\n\u001b[0;32m    182\u001b[0m \u001b[38;5;28;01melse\u001b[39;00m:\n\u001b[1;32m--> 183\u001b[0m     values \u001b[38;5;241m=\u001b[39m _astype_nansafe(values, dtype, copy\u001b[38;5;241m=\u001b[39mcopy)\n\u001b[0;32m    185\u001b[0m \u001b[38;5;66;03m# in pandas we don't store numpy str dtypes, so convert to object\u001b[39;00m\n\u001b[0;32m    186\u001b[0m \u001b[38;5;28;01mif\u001b[39;00m \u001b[38;5;28misinstance\u001b[39m(dtype, np\u001b[38;5;241m.\u001b[39mdtype) \u001b[38;5;129;01mand\u001b[39;00m \u001b[38;5;28missubclass\u001b[39m(values\u001b[38;5;241m.\u001b[39mdtype\u001b[38;5;241m.\u001b[39mtype, \u001b[38;5;28mstr\u001b[39m):\n",
      "File \u001b[1;32m~\\anaconda3\\Lib\\site-packages\\pandas\\core\\dtypes\\astype.py:134\u001b[0m, in \u001b[0;36m_astype_nansafe\u001b[1;34m(arr, dtype, copy, skipna)\u001b[0m\n\u001b[0;32m    130\u001b[0m     \u001b[38;5;28;01mraise\u001b[39;00m \u001b[38;5;167;01mValueError\u001b[39;00m(msg)\n\u001b[0;32m    132\u001b[0m \u001b[38;5;28;01mif\u001b[39;00m copy \u001b[38;5;129;01mor\u001b[39;00m arr\u001b[38;5;241m.\u001b[39mdtype \u001b[38;5;241m==\u001b[39m \u001b[38;5;28mobject\u001b[39m \u001b[38;5;129;01mor\u001b[39;00m dtype \u001b[38;5;241m==\u001b[39m \u001b[38;5;28mobject\u001b[39m:\n\u001b[0;32m    133\u001b[0m     \u001b[38;5;66;03m# Explicit copy, or required since NumPy can't view from / to object.\u001b[39;00m\n\u001b[1;32m--> 134\u001b[0m     \u001b[38;5;28;01mreturn\u001b[39;00m arr\u001b[38;5;241m.\u001b[39mastype(dtype, copy\u001b[38;5;241m=\u001b[39m\u001b[38;5;28;01mTrue\u001b[39;00m)\n\u001b[0;32m    136\u001b[0m \u001b[38;5;28;01mreturn\u001b[39;00m arr\u001b[38;5;241m.\u001b[39mastype(dtype, copy\u001b[38;5;241m=\u001b[39mcopy)\n",
      "\u001b[1;31mValueError\u001b[0m: could not convert string to float: 'T3'"
     ]
    }
   ],
   "source": [
    "# Create a StandardScaler instances\n",
    "scaler = StandardScaler()\n",
    "\n",
    "# Fit the StandardScaler\n",
    "X_scaler = scaler.fit(X_train)\n",
    "\n",
    "# Scale the data\n",
    "X_train_scaled = X_scaler.transform(X_train)\n",
    "X_test_scaled = X_scaler.transform(X_test)"
   ]
  },
  {
   "cell_type": "markdown",
   "metadata": {},
   "source": [
    "## Compile, Train and Evaluate the Model"
   ]
  },
  {
   "cell_type": "code",
   "execution_count": 33,
   "metadata": {},
   "outputs": [
    {
     "name": "stdout",
     "output_type": "stream",
     "text": [
      "WARNING:tensorflow:From Z:\\Travis\\anaconda3\\lib\\site-packages\\tensorflow\\python\\ops\\init_ops.py:1251: calling VarianceScaling.__init__ (from tensorflow.python.ops.init_ops) with dtype is deprecated and will be removed in a future version.\n",
      "Instructions for updating:\n",
      "Call initializer instance with the dtype argument instead of passing it to the constructor\n",
      "Model: \"sequential\"\n",
      "_________________________________________________________________\n",
      "Layer (type)                 Output Shape              Param #   \n",
      "=================================================================\n",
      "dense (Dense)                (None, 80)                3520      \n",
      "_________________________________________________________________\n",
      "dense_1 (Dense)              (None, 30)                2430      \n",
      "_________________________________________________________________\n",
      "dense_2 (Dense)              (None, 1)                 31        \n",
      "=================================================================\n",
      "Total params: 5,981\n",
      "Trainable params: 5,981\n",
      "Non-trainable params: 0\n",
      "_________________________________________________________________\n"
     ]
    }
   ],
   "source": [
    "# Define the model - deep neural net, i.e., the number of input features and hidden nodes for each layer.\n",
    "#  YOUR CODE GOES HERE\n",
    "\n",
    "nn = tf.keras.models.Sequential()\n",
    "\n",
    "# First hidden layer\n",
    "#  YOUR CODE GOES HERE\n",
    "\n",
    "# Second hidden layer\n",
    "#  YOUR CODE GOES HERE\n",
    "\n",
    "# Output layer\n",
    "#  YOUR CODE GOES HERE\n",
    "\n",
    "# Check the structure of the model\n",
    "nn.summary()"
   ]
  },
  {
   "cell_type": "code",
   "execution_count": 34,
   "metadata": {},
   "outputs": [
    {
     "name": "stdout",
     "output_type": "stream",
     "text": [
      "WARNING:tensorflow:From Z:\\Travis\\anaconda3\\lib\\site-packages\\tensorflow\\python\\ops\\nn_impl.py:180: add_dispatch_support.<locals>.wrapper (from tensorflow.python.ops.array_ops) is deprecated and will be removed in a future version.\n",
      "Instructions for updating:\n",
      "Use tf.where in 2.0, which has the same broadcast rule as np.where\n"
     ]
    }
   ],
   "source": [
    "# Compile the model\n",
    "#  YOUR CODE GOES HERE"
   ]
  },
  {
   "cell_type": "code",
   "execution_count": 36,
   "metadata": {},
   "outputs": [
    {
     "name": "stdout",
     "output_type": "stream",
     "text": [
      "Epoch 1/100\n",
      "25724/25724 [==============================] - 2s 80us/sample - loss: 0.5700 - acc: 0.7234\n",
      "Epoch 2/100\n",
      "25724/25724 [==============================] - 1s 44us/sample - loss: 0.5556 - acc: 0.7294\n",
      "Epoch 3/100\n",
      "25724/25724 [==============================] - 1s 43us/sample - loss: 0.5529 - acc: 0.7304\n",
      "Epoch 4/100\n",
      "25724/25724 [==============================] - 1s 49us/sample - loss: 0.5514 - acc: 0.7318\n",
      "Epoch 5/100\n",
      "25724/25724 [==============================] - 1s 48us/sample - loss: 0.5495 - acc: 0.7322\n",
      "Epoch 6/100\n",
      "25724/25724 [==============================] - 1s 46us/sample - loss: 0.5488 - acc: 0.7330\n",
      "Epoch 7/100\n",
      "25724/25724 [==============================] - 1s 47us/sample - loss: 0.5482 - acc: 0.7335\n",
      "Epoch 8/100\n",
      "25724/25724 [==============================] - 1s 44us/sample - loss: 0.5475 - acc: 0.7326\n",
      "Epoch 9/100\n",
      "25724/25724 [==============================] - 1s 48us/sample - loss: 0.5468 - acc: 0.73491s - lo\n",
      "Epoch 10/100\n",
      "25724/25724 [==============================] - 1s 49us/sample - loss: 0.5465 - acc: 0.7350\n",
      "Epoch 11/100\n",
      "25724/25724 [==============================] - 1s 47us/sample - loss: 0.5459 - acc: 0.7345\n",
      "Epoch 12/100\n",
      "25724/25724 [==============================] - 1s 45us/sample - loss: 0.5456 - acc: 0.7362\n",
      "Epoch 13/100\n",
      "25724/25724 [==============================] - 1s 50us/sample - loss: 0.5458 - acc: 0.7339\n",
      "Epoch 14/100\n",
      "25724/25724 [==============================] - 1s 47us/sample - loss: 0.5450 - acc: 0.7361\n",
      "Epoch 15/100\n",
      "25724/25724 [==============================] - 1s 46us/sample - loss: 0.5447 - acc: 0.7353\n",
      "Epoch 16/100\n",
      "25724/25724 [==============================] - 1s 45us/sample - loss: 0.5444 - acc: 0.7356\n",
      "Epoch 17/100\n",
      "25724/25724 [==============================] - 1s 45us/sample - loss: 0.5440 - acc: 0.7358\n",
      "Epoch 18/100\n",
      "25724/25724 [==============================] - 1s 45us/sample - loss: 0.5442 - acc: 0.7367\n",
      "Epoch 19/100\n",
      "25724/25724 [==============================] - 1s 45us/sample - loss: 0.5436 - acc: 0.7360\n",
      "Epoch 20/100\n",
      "25724/25724 [==============================] - 1s 44us/sample - loss: 0.5435 - acc: 0.7365\n",
      "Epoch 21/100\n",
      "25724/25724 [==============================] - 1s 44us/sample - loss: 0.5426 - acc: 0.7377\n",
      "Epoch 22/100\n",
      "25724/25724 [==============================] - 1s 44us/sample - loss: 0.5429 - acc: 0.7367\n",
      "Epoch 23/100\n",
      "25724/25724 [==============================] - 1s 42us/sample - loss: 0.5428 - acc: 0.7382\n",
      "Epoch 24/100\n",
      "25724/25724 [==============================] - 1s 45us/sample - loss: 0.5425 - acc: 0.7376\n",
      "Epoch 25/100\n",
      "25724/25724 [==============================] - 1s 44us/sample - loss: 0.5421 - acc: 0.7379\n",
      "Epoch 26/100\n",
      "25724/25724 [==============================] - 1s 46us/sample - loss: 0.5419 - acc: 0.7382\n",
      "Epoch 27/100\n",
      "25724/25724 [==============================] - 1s 56us/sample - loss: 0.5415 - acc: 0.7384\n",
      "Epoch 28/100\n",
      "25724/25724 [==============================] - 2s 67us/sample - loss: 0.5418 - acc: 0.7381\n",
      "Epoch 29/100\n",
      "25724/25724 [==============================] - 2s 60us/sample - loss: 0.5415 - acc: 0.7381\n",
      "Epoch 30/100\n",
      "25724/25724 [==============================] - 2s 61us/sample - loss: 0.5410 - acc: 0.7382\n",
      "Epoch 31/100\n",
      "25724/25724 [==============================] - 1s 45us/sample - loss: 0.5414 - acc: 0.7381\n",
      "Epoch 32/100\n",
      "25724/25724 [==============================] - 1s 48us/sample - loss: 0.5407 - acc: 0.7388\n",
      "Epoch 33/100\n",
      "25724/25724 [==============================] - 1s 44us/sample - loss: 0.5412 - acc: 0.7374\n",
      "Epoch 34/100\n",
      "25724/25724 [==============================] - 1s 45us/sample - loss: 0.5405 - acc: 0.7383\n",
      "Epoch 35/100\n",
      "25724/25724 [==============================] - 1s 49us/sample - loss: 0.5405 - acc: 0.7388\n",
      "Epoch 36/100\n",
      "25724/25724 [==============================] - 1s 51us/sample - loss: 0.5405 - acc: 0.7384\n",
      "Epoch 37/100\n",
      "25724/25724 [==============================] - 1s 47us/sample - loss: 0.5403 - acc: 0.7379\n",
      "Epoch 38/100\n",
      "25724/25724 [==============================] - 1s 49us/sample - loss: 0.5401 - acc: 0.7392\n",
      "Epoch 39/100\n",
      "25724/25724 [==============================] - 1s 48us/sample - loss: 0.5405 - acc: 0.7387\n",
      "Epoch 40/100\n",
      "25724/25724 [==============================] - 1s 47us/sample - loss: 0.5399 - acc: 0.7390\n",
      "Epoch 41/100\n",
      "25724/25724 [==============================] - 1s 47us/sample - loss: 0.5395 - acc: 0.7394\n",
      "Epoch 42/100\n",
      "25724/25724 [==============================] - 1s 47us/sample - loss: 0.5399 - acc: 0.7391\n",
      "Epoch 43/100\n",
      "25724/25724 [==============================] - 1s 53us/sample - loss: 0.5396 - acc: 0.7389\n",
      "Epoch 44/100\n",
      "25724/25724 [==============================] - 1s 46us/sample - loss: 0.5398 - acc: 0.7397\n",
      "Epoch 45/100\n",
      "25724/25724 [==============================] - 1s 45us/sample - loss: 0.5395 - acc: 0.7400\n",
      "Epoch 46/100\n",
      "25724/25724 [==============================] - 1s 48us/sample - loss: 0.5389 - acc: 0.7391\n",
      "Epoch 47/100\n",
      "25724/25724 [==============================] - 1s 46us/sample - loss: 0.5391 - acc: 0.7393\n",
      "Epoch 48/100\n",
      "25724/25724 [==============================] - 1s 47us/sample - loss: 0.5390 - acc: 0.7383\n",
      "Epoch 49/100\n",
      "25724/25724 [==============================] - 1s 47us/sample - loss: 0.5391 - acc: 0.7390\n",
      "Epoch 50/100\n",
      "25724/25724 [==============================] - 1s 53us/sample - loss: 0.5387 - acc: 0.7402\n",
      "Epoch 51/100\n",
      "25724/25724 [==============================] - 1s 49us/sample - loss: 0.5388 - acc: 0.7393\n",
      "Epoch 52/100\n",
      "25724/25724 [==============================] - 1s 48us/sample - loss: 0.5389 - acc: 0.7393\n",
      "Epoch 53/100\n",
      "25724/25724 [==============================] - 1s 49us/sample - loss: 0.5387 - acc: 0.7394\n",
      "Epoch 54/100\n",
      "25724/25724 [==============================] - 1s 50us/sample - loss: 0.5385 - acc: 0.7395\n",
      "Epoch 55/100\n",
      "25724/25724 [==============================] - 1s 48us/sample - loss: 0.5381 - acc: 0.7394\n",
      "Epoch 56/100\n",
      "25724/25724 [==============================] - 2s 60us/sample - loss: 0.5384 - acc: 0.7396\n",
      "Epoch 57/100\n",
      "25724/25724 [==============================] - 1s 51us/sample - loss: 0.5384 - acc: 0.7392\n",
      "Epoch 58/100\n",
      "25724/25724 [==============================] - 1s 52us/sample - loss: 0.5382 - acc: 0.7398\n",
      "Epoch 59/100\n",
      "25724/25724 [==============================] - 1s 51us/sample - loss: 0.5382 - acc: 0.7390\n",
      "Epoch 60/100\n",
      "25724/25724 [==============================] - 1s 58us/sample - loss: 0.5383 - acc: 0.7395\n",
      "Epoch 61/100\n",
      "25724/25724 [==============================] - 1s 48us/sample - loss: 0.5380 - acc: 0.7393\n",
      "Epoch 62/100\n",
      "25724/25724 [==============================] - 1s 54us/sample - loss: 0.5386 - acc: 0.7395\n",
      "Epoch 63/100\n",
      "25724/25724 [==============================] - 1s 53us/sample - loss: 0.5379 - acc: 0.7397\n",
      "Epoch 64/100\n",
      "25724/25724 [==============================] - 1s 54us/sample - loss: 0.5383 - acc: 0.7414\n",
      "Epoch 65/100\n",
      "25724/25724 [==============================] - 1s 57us/sample - loss: 0.5376 - acc: 0.74031s \n",
      "Epoch 66/100\n",
      "25724/25724 [==============================] - 1s 55us/sample - loss: 0.5378 - acc: 0.7407\n",
      "Epoch 67/100\n",
      "25724/25724 [==============================] - 2s 60us/sample - loss: 0.5378 - acc: 0.7402\n",
      "Epoch 68/100\n",
      "25724/25724 [==============================] - 2s 68us/sample - loss: 0.5374 - acc: 0.7403\n",
      "Epoch 69/100\n",
      "25724/25724 [==============================] - 1s 55us/sample - loss: 0.5376 - acc: 0.7400\n",
      "Epoch 70/100\n",
      "25724/25724 [==============================] - 1s 51us/sample - loss: 0.5377 - acc: 0.7404\n",
      "Epoch 71/100\n",
      "25724/25724 [==============================] - 1s 53us/sample - loss: 0.5377 - acc: 0.7402\n",
      "Epoch 72/100\n",
      "25724/25724 [==============================] - 2s 61us/sample - loss: 0.5374 - acc: 0.7403\n",
      "Epoch 73/100\n",
      "25724/25724 [==============================] - 1s 58us/sample - loss: 0.5375 - acc: 0.7400\n",
      "Epoch 74/100\n",
      "25724/25724 [==============================] - 2s 63us/sample - loss: 0.5373 - acc: 0.7407\n",
      "Epoch 75/100\n",
      "25724/25724 [==============================] - 2s 72us/sample - loss: 0.5371 - acc: 0.7402\n",
      "Epoch 76/100\n",
      "25724/25724 [==============================] - 2s 66us/sample - loss: 0.5372 - acc: 0.7404\n",
      "Epoch 77/100\n",
      "25724/25724 [==============================] - 2s 63us/sample - loss: 0.5372 - acc: 0.7399\n",
      "Epoch 78/100\n",
      "25724/25724 [==============================] - 1s 51us/sample - loss: 0.5378 - acc: 0.7409\n",
      "Epoch 79/100\n",
      "25724/25724 [==============================] - 2s 70us/sample - loss: 0.5370 - acc: 0.7410\n",
      "Epoch 80/100\n",
      "25724/25724 [==============================] - 1s 46us/sample - loss: 0.5371 - acc: 0.7402\n",
      "Epoch 81/100\n",
      "25724/25724 [==============================] - 1s 48us/sample - loss: 0.5368 - acc: 0.7414\n",
      "Epoch 82/100\n",
      "25724/25724 [==============================] - 1s 46us/sample - loss: 0.5366 - acc: 0.7413\n",
      "Epoch 83/100\n",
      "25724/25724 [==============================] - 1s 48us/sample - loss: 0.5368 - acc: 0.7405\n",
      "Epoch 84/100\n",
      "25724/25724 [==============================] - 2s 65us/sample - loss: 0.5367 - acc: 0.7407\n",
      "Epoch 85/100\n",
      "25724/25724 [==============================] - 2s 64us/sample - loss: 0.5368 - acc: 0.7404\n",
      "Epoch 86/100\n",
      "25724/25724 [==============================] - 2s 69us/sample - loss: 0.5365 - acc: 0.7408\n",
      "Epoch 87/100\n",
      "25724/25724 [==============================] - 1s 53us/sample - loss: 0.5371 - acc: 0.7407\n",
      "Epoch 88/100\n",
      "25724/25724 [==============================] - 1s 57us/sample - loss: 0.5367 - acc: 0.7410\n",
      "Epoch 89/100\n",
      "25724/25724 [==============================] - 1s 48us/sample - loss: 0.5366 - acc: 0.7409\n",
      "Epoch 90/100\n",
      "25724/25724 [==============================] - 1s 48us/sample - loss: 0.5365 - acc: 0.7409\n",
      "Epoch 91/100\n",
      "25724/25724 [==============================] - 1s 48us/sample - loss: 0.5360 - acc: 0.7414\n",
      "Epoch 92/100\n",
      "25724/25724 [==============================] - 1s 50us/sample - loss: 0.5370 - acc: 0.7406\n",
      "Epoch 93/100\n",
      "25724/25724 [==============================] - 1s 46us/sample - loss: 0.5365 - acc: 0.7411\n",
      "Epoch 94/100\n",
      "25724/25724 [==============================] - 1s 50us/sample - loss: 0.5366 - acc: 0.7409\n",
      "Epoch 95/100\n",
      "25724/25724 [==============================] - 1s 56us/sample - loss: 0.5362 - acc: 0.7411\n",
      "Epoch 96/100\n",
      "25724/25724 [==============================] - 1s 50us/sample - loss: 0.5361 - acc: 0.7404\n",
      "Epoch 97/100\n",
      "25724/25724 [==============================] - 1s 54us/sample - loss: 0.5361 - acc: 0.74130s - loss: 0.5380 - \n",
      "Epoch 98/100\n",
      "25724/25724 [==============================] - 2s 64us/sample - loss: 0.5365 - acc: 0.7407\n",
      "Epoch 99/100\n",
      "25724/25724 [==============================] - 2s 80us/sample - loss: 0.5360 - acc: 0.7396\n",
      "Epoch 100/100\n",
      "25724/25724 [==============================] - 2s 64us/sample - loss: 0.5360 - acc: 0.7416\n"
     ]
    }
   ],
   "source": [
    "# Train the model\n",
    "#  YOUR CODE GOES HERE"
   ]
  },
  {
   "cell_type": "code",
   "execution_count": 37,
   "metadata": {},
   "outputs": [
    {
     "name": "stdout",
     "output_type": "stream",
     "text": [
      "8575/8575 - 0s - loss: 0.5578 - acc: 0.7263\n",
      "Loss: 0.557812534073699, Accuracy: 0.7262973785400391\n"
     ]
    }
   ],
   "source": [
    "# Evaluate the model using the test data\n",
    "model_loss, model_accuracy = nn.evaluate(X_test_scaled,y_test,verbose=2)\n",
    "print(f\"Loss: {model_loss}, Accuracy: {model_accuracy}\")"
   ]
  },
  {
   "cell_type": "code",
   "execution_count": 38,
   "metadata": {},
   "outputs": [],
   "source": [
    "# Export our model to HDF5 file\n",
    "#  YOUR CODE GOES HERE"
   ]
  }
 ],
 "metadata": {
  "kernelspec": {
   "display_name": "Python 3 (ipykernel)",
   "language": "python",
   "name": "python3"
  },
  "language_info": {
   "codemirror_mode": {
    "name": "ipython",
    "version": 3
   },
   "file_extension": ".py",
   "mimetype": "text/x-python",
   "name": "python",
   "nbconvert_exporter": "python",
   "pygments_lexer": "ipython3",
   "version": "3.11.7"
  },
  "vscode": {
   "interpreter": {
    "hash": "31f2aee4e71d21fbe5cf8b01ff0e069b9275f58929596ceb00d14d90e3e16cd6"
   }
  }
 },
 "nbformat": 4,
 "nbformat_minor": 4
}
